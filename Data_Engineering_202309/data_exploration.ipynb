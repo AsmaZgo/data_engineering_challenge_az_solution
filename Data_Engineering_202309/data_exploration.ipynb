{
  "nbformat": 4,
  "nbformat_minor": 0,
  "metadata": {
    "colab": {
      "provenance": []
    },
    "kernelspec": {
      "name": "python3",
      "display_name": "Python 3"
    },
    "language_info": {
      "name": "python"
    }
  },
  "cells": [
    {
      "cell_type": "code",
      "execution_count": null,
      "metadata": {
        "id": "T5Xijrgmkdsq"
      },
      "outputs": [],
      "source": [
        "import sqlite3\n",
        "import pandas as pd\n",
        "\n",
        "database_path=\"\"\n",
        "\n",
        "conn = sqlite3.connect(database_path)\n",
        "query = \"SELECT * FROM session_sources\"\n",
        "data = pd.read_sql_query(query, conn)\n",
        "conn.close()"
      ]
    }
  ]
}